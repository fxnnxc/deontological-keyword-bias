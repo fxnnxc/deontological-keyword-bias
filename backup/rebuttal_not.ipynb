{
 "cells": [
  {
   "cell_type": "code",
   "execution_count": 1,
   "metadata": {},
   "outputs": [],
   "source": [
    "import pandas as pd \n",
    "\n",
    "\n",
    "data3 = pd.read_csv(\"averaged_exp_1_not.csv\")\n",
    "data4 = pd.read_csv(\"averaged_exp_2_1_not.csv\")\n",
    "data1 = pd.read_csv(\"averaged_exp_1.csv\")\n",
    "data2 = pd.read_csv(\"averaged_exp_2_1.csv\")\n",
    "\n",
    "model_name_conversion = {\n",
    "    'openai--gpt-4o': 'GPT-4o',\n",
    "    'openai--gpt-4o-mini': 'GPT-4o-mini',\n",
    "    'llama3_1_instruct--70b': 'Llama-3.1-70B-Instruct',\n",
    "    'llama3_1--8b': 'Llama-3.1-8B',\n",
    "    'gemma2--9b': 'Gemma-9B',\n",
    "    'qwen2--7b': 'Qwen-7B',\n",
    "    'exaone--8b': 'ExaOne-8B',\n",
    "    'type' : 'MV'\n",
    "}\n",
    "\n",
    "data1.columns = data1.columns.map(model_name_conversion)\n",
    "data2.columns = data2.columns.map(model_name_conversion)\n",
    "data3.columns = data3.columns.map(model_name_conversion)\n",
    "data4.columns = data4.columns.map(model_name_conversion)\n",
    "data1['Setting'] = 'D (+)'\n",
    "data2['Setting'] = 'C (+)'\n",
    "data3['Setting'] = 'D (-)'\n",
    "data4['Setting'] = 'C (-)'\n",
    "\n",
    "# make sure setting comes first\n",
    "data1 = data1[['Setting'] + [col for col in data1.columns if col != 'Setting']]\n",
    "data2 = data2[['Setting'] + [col for col in data2.columns if col != 'Setting']]\n",
    "data3 = data3[['Setting'] + [col for col in data3.columns if col != 'Setting']]\n",
    "data4 = data4[['Setting'] + [col for col in data4.columns if col != 'Setting']]\n",
    "\n",
    "# Drop Exaone-8B column for all dataframes\n",
    "data1 = data1.drop(columns=['ExaOne-8B'])\n",
    "data2 = data2.drop(columns=['ExaOne-8B'])\n",
    "data3 = data3.drop(columns=['ExaOne-8B'])\n",
    "data4 = data4.drop(columns=['ExaOne-8B'])\n",
    "\n",
    "\n"
   ]
  },
  {
   "cell_type": "code",
   "execution_count": 2,
   "metadata": {},
   "outputs": [
    {
     "data": {
      "text/plain": [
       "0.3"
      ]
     },
     "execution_count": 2,
     "metadata": {},
     "output_type": "execute_result"
    }
   ],
   "source": [
    "# convert into markdown table\n",
    "data1\n",
    "0.06 * 5 "
   ]
  },
  {
   "cell_type": "code",
   "execution_count": 3,
   "metadata": {},
   "outputs": [
    {
     "data": {
      "text/html": [
       "<div>\n",
       "<style scoped>\n",
       "    .dataframe tbody tr th:only-of-type {\n",
       "        vertical-align: middle;\n",
       "    }\n",
       "\n",
       "    .dataframe tbody tr th {\n",
       "        vertical-align: top;\n",
       "    }\n",
       "\n",
       "    .dataframe thead th {\n",
       "        text-align: right;\n",
       "    }\n",
       "</style>\n",
       "<table border=\"1\" class=\"dataframe\">\n",
       "  <thead>\n",
       "    <tr style=\"text-align: right;\">\n",
       "      <th></th>\n",
       "      <th>Setting</th>\n",
       "      <th>MV</th>\n",
       "      <th>GPT-4o</th>\n",
       "      <th>GPT-4o-mini</th>\n",
       "      <th>Llama-3.1-70B-Instruct</th>\n",
       "      <th>Llama-3.1-8B</th>\n",
       "      <th>Gemma-9B</th>\n",
       "      <th>Qwen-7B</th>\n",
       "    </tr>\n",
       "  </thead>\n",
       "  <tbody>\n",
       "    <tr>\n",
       "      <th>0</th>\n",
       "      <td>C (+)</td>\n",
       "      <td>none</td>\n",
       "      <td>0.02</td>\n",
       "      <td>0.04</td>\n",
       "      <td>0.01</td>\n",
       "      <td>0.22</td>\n",
       "      <td>0.11</td>\n",
       "      <td>0.16</td>\n",
       "    </tr>\n",
       "    <tr>\n",
       "      <th>1</th>\n",
       "      <td>C (+)</td>\n",
       "      <td>strong</td>\n",
       "      <td>0.98</td>\n",
       "      <td>0.99</td>\n",
       "      <td>0.86</td>\n",
       "      <td>0.99</td>\n",
       "      <td>0.96</td>\n",
       "      <td>0.96</td>\n",
       "    </tr>\n",
       "    <tr>\n",
       "      <th>2</th>\n",
       "      <td>C (+)</td>\n",
       "      <td>weak</td>\n",
       "      <td>0.03</td>\n",
       "      <td>0.22</td>\n",
       "      <td>0.00</td>\n",
       "      <td>0.31</td>\n",
       "      <td>0.33</td>\n",
       "      <td>0.16</td>\n",
       "    </tr>\n",
       "  </tbody>\n",
       "</table>\n",
       "</div>"
      ],
      "text/plain": [
       "  Setting      MV  GPT-4o  GPT-4o-mini  Llama-3.1-70B-Instruct  Llama-3.1-8B  \\\n",
       "0   C (+)    none    0.02         0.04                    0.01          0.22   \n",
       "1   C (+)  strong    0.98         0.99                    0.86          0.99   \n",
       "2   C (+)    weak    0.03         0.22                    0.00          0.31   \n",
       "\n",
       "   Gemma-9B  Qwen-7B  \n",
       "0      0.11     0.16  \n",
       "1      0.96     0.96  \n",
       "2      0.33     0.16  "
      ]
     },
     "execution_count": 3,
     "metadata": {},
     "output_type": "execute_result"
    }
   ],
   "source": [
    "data2"
   ]
  },
  {
   "cell_type": "code",
   "execution_count": 4,
   "metadata": {},
   "outputs": [
    {
     "data": {
      "text/html": [
       "<div>\n",
       "<style scoped>\n",
       "    .dataframe tbody tr th:only-of-type {\n",
       "        vertical-align: middle;\n",
       "    }\n",
       "\n",
       "    .dataframe tbody tr th {\n",
       "        vertical-align: top;\n",
       "    }\n",
       "\n",
       "    .dataframe thead th {\n",
       "        text-align: right;\n",
       "    }\n",
       "</style>\n",
       "<table border=\"1\" class=\"dataframe\">\n",
       "  <thead>\n",
       "    <tr style=\"text-align: right;\">\n",
       "      <th></th>\n",
       "      <th>Setting</th>\n",
       "      <th>MV</th>\n",
       "      <th>GPT-4o</th>\n",
       "      <th>GPT-4o-mini</th>\n",
       "      <th>Llama-3.1-70B-Instruct</th>\n",
       "      <th>Llama-3.1-8B</th>\n",
       "      <th>Gemma-9B</th>\n",
       "      <th>Qwen-7B</th>\n",
       "    </tr>\n",
       "  </thead>\n",
       "  <tbody>\n",
       "    <tr>\n",
       "      <th>0</th>\n",
       "      <td>D (-)</td>\n",
       "      <td>none</td>\n",
       "      <td>0.02</td>\n",
       "      <td>0.10</td>\n",
       "      <td>0.08</td>\n",
       "      <td>0.99</td>\n",
       "      <td>0.43</td>\n",
       "      <td>0.19</td>\n",
       "    </tr>\n",
       "    <tr>\n",
       "      <th>1</th>\n",
       "      <td>D (-)</td>\n",
       "      <td>strong</td>\n",
       "      <td>0.89</td>\n",
       "      <td>0.87</td>\n",
       "      <td>0.70</td>\n",
       "      <td>1.00</td>\n",
       "      <td>0.86</td>\n",
       "      <td>0.82</td>\n",
       "    </tr>\n",
       "    <tr>\n",
       "      <th>2</th>\n",
       "      <td>D (-)</td>\n",
       "      <td>weak</td>\n",
       "      <td>0.03</td>\n",
       "      <td>0.47</td>\n",
       "      <td>0.21</td>\n",
       "      <td>0.98</td>\n",
       "      <td>0.66</td>\n",
       "      <td>0.37</td>\n",
       "    </tr>\n",
       "  </tbody>\n",
       "</table>\n",
       "</div>"
      ],
      "text/plain": [
       "  Setting      MV  GPT-4o  GPT-4o-mini  Llama-3.1-70B-Instruct  Llama-3.1-8B  \\\n",
       "0   D (-)    none    0.02         0.10                    0.08          0.99   \n",
       "1   D (-)  strong    0.89         0.87                    0.70          1.00   \n",
       "2   D (-)    weak    0.03         0.47                    0.21          0.98   \n",
       "\n",
       "   Gemma-9B  Qwen-7B  \n",
       "0      0.43     0.19  \n",
       "1      0.86     0.82  \n",
       "2      0.66     0.37  "
      ]
     },
     "execution_count": 4,
     "metadata": {},
     "output_type": "execute_result"
    }
   ],
   "source": [
    "data3"
   ]
  },
  {
   "cell_type": "code",
   "execution_count": 5,
   "metadata": {},
   "outputs": [
    {
     "data": {
      "text/html": [
       "<div>\n",
       "<style scoped>\n",
       "    .dataframe tbody tr th:only-of-type {\n",
       "        vertical-align: middle;\n",
       "    }\n",
       "\n",
       "    .dataframe tbody tr th {\n",
       "        vertical-align: top;\n",
       "    }\n",
       "\n",
       "    .dataframe thead th {\n",
       "        text-align: right;\n",
       "    }\n",
       "</style>\n",
       "<table border=\"1\" class=\"dataframe\">\n",
       "  <thead>\n",
       "    <tr style=\"text-align: right;\">\n",
       "      <th></th>\n",
       "      <th>Setting</th>\n",
       "      <th>MV</th>\n",
       "      <th>GPT-4o</th>\n",
       "      <th>GPT-4o-mini</th>\n",
       "      <th>Llama-3.1-70B-Instruct</th>\n",
       "      <th>Llama-3.1-8B</th>\n",
       "      <th>Gemma-9B</th>\n",
       "      <th>Qwen-7B</th>\n",
       "    </tr>\n",
       "  </thead>\n",
       "  <tbody>\n",
       "    <tr>\n",
       "      <th>0</th>\n",
       "      <td>C (-)</td>\n",
       "      <td>none</td>\n",
       "      <td>0.01</td>\n",
       "      <td>0.03</td>\n",
       "      <td>0.01</td>\n",
       "      <td>0.24</td>\n",
       "      <td>0.03</td>\n",
       "      <td>0.12</td>\n",
       "    </tr>\n",
       "    <tr>\n",
       "      <th>1</th>\n",
       "      <td>C (-)</td>\n",
       "      <td>strong</td>\n",
       "      <td>0.98</td>\n",
       "      <td>0.99</td>\n",
       "      <td>0.87</td>\n",
       "      <td>1.00</td>\n",
       "      <td>0.88</td>\n",
       "      <td>0.97</td>\n",
       "    </tr>\n",
       "    <tr>\n",
       "      <th>2</th>\n",
       "      <td>C (-)</td>\n",
       "      <td>weak</td>\n",
       "      <td>0.03</td>\n",
       "      <td>0.16</td>\n",
       "      <td>0.03</td>\n",
       "      <td>0.18</td>\n",
       "      <td>0.06</td>\n",
       "      <td>0.19</td>\n",
       "    </tr>\n",
       "  </tbody>\n",
       "</table>\n",
       "</div>"
      ],
      "text/plain": [
       "  Setting      MV  GPT-4o  GPT-4o-mini  Llama-3.1-70B-Instruct  Llama-3.1-8B  \\\n",
       "0   C (-)    none    0.01         0.03                    0.01          0.24   \n",
       "1   C (-)  strong    0.98         0.99                    0.87          1.00   \n",
       "2   C (-)    weak    0.03         0.16                    0.03          0.18   \n",
       "\n",
       "   Gemma-9B  Qwen-7B  \n",
       "0      0.03     0.12  \n",
       "1      0.88     0.97  \n",
       "2      0.06     0.19  "
      ]
     },
     "execution_count": 5,
     "metadata": {},
     "output_type": "execute_result"
    }
   ],
   "source": [
    "data4\n"
   ]
  },
  {
   "cell_type": "code",
   "execution_count": 6,
   "metadata": {},
   "outputs": [
    {
     "name": "stdout",
     "output_type": "stream",
     "text": [
      "|    | Setting   | MV     |   GPT-4o |   GPT-4o-mini |   Llama-3.1-70B-Instruct |   Llama-3.1-8B |   Gemma-9B |   Qwen-7B |\n",
      "|---:|:----------|:-------|---------:|--------------:|-------------------------:|---------------:|-----------:|----------:|\n",
      "|  0 | D (+)     | none   |     0.06 |          0.22 |                     0.06 |           0.98 |       0.9  |      0.39 |\n",
      "|  1 | D (+)     | strong |     0.99 |          0.99 |                     0.93 |           1    |       1    |      0.97 |\n",
      "|  2 | D (+)     | weak   |     0.02 |          0.43 |                     0.04 |           0.99 |       0.96 |      0.35 |\n",
      "|    | Setting   | MV     |   GPT-4o |   GPT-4o-mini |   Llama-3.1-70B-Instruct |   Llama-3.1-8B |   Gemma-9B |   Qwen-7B |\n",
      "|---:|:----------|:-------|---------:|--------------:|-------------------------:|---------------:|-----------:|----------:|\n",
      "|  0 | C (+)     | none   |     0.02 |          0.04 |                     0.01 |           0.22 |       0.11 |      0.16 |\n",
      "|  1 | C (+)     | strong |     0.98 |          0.99 |                     0.86 |           0.99 |       0.96 |      0.96 |\n",
      "|  2 | C (+)     | weak   |     0.03 |          0.22 |                     0    |           0.31 |       0.33 |      0.16 |\n",
      "|    | Setting   | MV     |   GPT-4o |   GPT-4o-mini |   Llama-3.1-70B-Instruct |   Llama-3.1-8B |   Gemma-9B |   Qwen-7B |\n",
      "|---:|:----------|:-------|---------:|--------------:|-------------------------:|---------------:|-----------:|----------:|\n",
      "|  0 | D (-)     | none   |     0.02 |          0.1  |                     0.08 |           0.99 |       0.43 |      0.19 |\n",
      "|  1 | D (-)     | strong |     0.89 |          0.87 |                     0.7  |           1    |       0.86 |      0.82 |\n",
      "|  2 | D (-)     | weak   |     0.03 |          0.47 |                     0.21 |           0.98 |       0.66 |      0.37 |\n",
      "|    | Setting   | MV     |   GPT-4o |   GPT-4o-mini |   Llama-3.1-70B-Instruct |   Llama-3.1-8B |   Gemma-9B |   Qwen-7B |\n",
      "|---:|:----------|:-------|---------:|--------------:|-------------------------:|---------------:|-----------:|----------:|\n",
      "|  0 | C (-)     | none   |     0.01 |          0.03 |                     0.01 |           0.24 |       0.03 |      0.12 |\n",
      "|  1 | C (-)     | strong |     0.98 |          0.99 |                     0.87 |           1    |       0.88 |      0.97 |\n",
      "|  2 | C (-)     | weak   |     0.03 |          0.16 |                     0.03 |           0.18 |       0.06 |      0.19 |\n"
     ]
    }
   ],
   "source": [
    "print(data1.to_markdown())\n",
    "print(data2.to_markdown())\n",
    "print(data3.to_markdown())\n",
    "print(data4.to_markdown())"
   ]
  },
  {
   "cell_type": "code",
   "execution_count": 7,
   "metadata": {},
   "outputs": [
    {
     "data": {
      "text/plain": [
       "0.05"
      ]
     },
     "execution_count": 7,
     "metadata": {},
     "output_type": "execute_result"
    }
   ],
   "source": [
    "0.01  * 5"
   ]
  },
  {
   "cell_type": "code",
   "execution_count": null,
   "metadata": {},
   "outputs": [],
   "source": []
  },
  {
   "cell_type": "code",
   "execution_count": null,
   "metadata": {},
   "outputs": [],
   "source": []
  }
 ],
 "metadata": {
  "kernelspec": {
   "display_name": "base",
   "language": "python",
   "name": "python3"
  },
  "language_info": {
   "codemirror_mode": {
    "name": "ipython",
    "version": 3
   },
   "file_extension": ".py",
   "mimetype": "text/x-python",
   "name": "python",
   "nbconvert_exporter": "python",
   "pygments_lexer": "ipython3",
   "version": "3.11.7"
  }
 },
 "nbformat": 4,
 "nbformat_minor": 2
}
