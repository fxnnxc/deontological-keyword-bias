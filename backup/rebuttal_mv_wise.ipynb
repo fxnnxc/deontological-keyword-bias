{
 "cells": [
  {
   "cell_type": "code",
   "execution_count": 33,
   "metadata": {},
   "outputs": [],
   "source": [
    "import pandas as pd \n",
    "import os \n",
    "\n",
    "data1 = pd.read_csv('mv_wise_exp_1_mean.csv')\n",
    "data2 = pd.read_csv('mv_wise_exp_1_not_mean.csv')\n",
    "data3 = pd.read_csv('mv_wise_exp_2_1_mean.csv')\n",
    "data4 = pd.read_csv('mv_wise_exp_2_1_not_mean.csv')\n",
    "\n",
    "exp_names = ['exp1', 'exp1_not', 'exp2_1', 'exp2_1_not']"
   ]
  },
  {
   "cell_type": "code",
   "execution_count": 36,
   "metadata": {},
   "outputs": [
    {
     "name": "stdout",
     "output_type": "stream",
     "text": [
      "exp1\n",
      "|    | mv      |     diff |   strong |     none |\n",
      "|---:|:--------|---------:|---------:|---------:|\n",
      "|  0 | have to | 0.401942 | 0.947573 | 0.545631 |\n",
      "|  1 | must    | 0.474    | 0.982    | 0.508    |\n",
      "|  2 | ought   | 0.51     | 0.996    | 0.486    |\n",
      "|  3 | should  | 0.470423 | 0.980282 | 0.509859 |\n",
      "have to & 0.40 (0.13) &  0.95 (0.00) &  0.55 (0.16) &  \\\\\n",
      "must & 0.47 (0.16) &  0.98 (0.00) &  0.51 (0.17) &  \\\\\n",
      "ought & 0.51 (0.18) &  1.00 (0.00) &  0.49 (0.19) &  \\\\\n",
      "should & 0.47 (0.14) &  0.98 (0.00) &  0.51 (0.16) &  \\\\\n",
      "----------------------------\n",
      "exp1_not\n",
      "|    | mv     |     diff |   strong |     none |\n",
      "|---:|:-------|---------:|---------:|---------:|\n",
      "|  0 | must   | 0.510345 | 0.879803 | 0.369458 |\n",
      "|  1 | ought  | 0.552    | 0.896    | 0.344    |\n",
      "|  2 | should | 0.414085 | 0.78169  | 0.367606 |\n",
      "must & 0.51 (0.09) &  0.88 (0.01) &  0.37 (0.13) &  \\\\\n",
      "ought & 0.55 (0.11) &  0.90 (0.01) &  0.34 (0.15) &  \\\\\n",
      "should & 0.41 (0.08) &  0.78 (0.03) &  0.37 (0.15) &  \\\\\n",
      "----------------------------\n",
      "exp2_1\n",
      "|    | mv      |     diff |   strong |       none |\n",
      "|---:|:--------|---------:|---------:|-----------:|\n",
      "|  0 | have to | 0.48     | 0.64     | 0.16       |\n",
      "|  1 | must    | 0.835577 | 0.8625   | 0.0269231  |\n",
      "|  2 | ought   | 0.82     | 0.826667 | 0.00666667 |\n",
      "|  3 | should  | 0.77193  | 0.790643 | 0.0187135  |\n",
      "have to & 0.48 (0.08) &  0.64 (0.08) &  0.16 (0.01) &  \\\\\n",
      "must & 0.84 (0.02) &  0.86 (0.02) &  0.03 (0.00) &  \\\\\n",
      "ought & 0.82 (0.03) &  0.83 (0.03) &  0.01 (0.00) &  \\\\\n",
      "should & 0.77 (0.04) &  0.79 (0.04) &  0.02 (0.00) &  \\\\\n",
      "----------------------------\n",
      "exp2_1_not\n",
      "|    | mv     |     diff |   strong |       none |\n",
      "|---:|:-------|---------:|---------:|-----------:|\n",
      "|  0 | must   | 0.844545 | 0.861818 | 0.0172727  |\n",
      "|  1 | ought  | 0.766667 | 0.77     | 0.00333333 |\n",
      "|  2 | should | 0.750296 | 0.757396 | 0.00710059 |\n",
      "must & 0.84 (0.01) &  0.86 (0.01) &  0.02 (0.00) &  \\\\\n",
      "ought & 0.77 (0.04) &  0.77 (0.05) &  0.00 (0.00) &  \\\\\n",
      "should & 0.75 (0.04) &  0.76 (0.04) &  0.01 (0.00) &  \\\\\n",
      "----------------------------\n"
     ]
    }
   ],
   "source": [
    "for d, data in enumerate([data1, data2, data3, data4]):\n",
    "    print(exp_names[d])\n",
    "    temp = data.groupby(['model', 'mv']).mean().reset_index()[['mv', 'diff', 'strong', 'none']]\n",
    "    mean = temp.groupby(['mv']).mean().reset_index()\n",
    "    var = temp.groupby(['mv']).var().reset_index()\n",
    "\n",
    "    print(mean.to_markdown())\n",
    "\n",
    "    # mean (var) format \n",
    "    for i in range(len(mean)):\n",
    "        print(f\"{mean.iloc[i]['mv']} &\", end=' ')\n",
    "        for label in ['diff', 'strong', 'none']:\n",
    "            print(f\"{mean.iloc[i][label]:.2f} ({var.iloc[i][label]:.2f}) & \", end=' ')\n",
    "        print(\"\\\\\\\\\")\n",
    "    print(\"----------------------------\")\n"
   ]
  },
  {
   "cell_type": "code",
   "execution_count": null,
   "metadata": {},
   "outputs": [],
   "source": []
  }
 ],
 "metadata": {
  "kernelspec": {
   "display_name": "base",
   "language": "python",
   "name": "python3"
  },
  "language_info": {
   "codemirror_mode": {
    "name": "ipython",
    "version": 3
   },
   "file_extension": ".py",
   "mimetype": "text/x-python",
   "name": "python",
   "nbconvert_exporter": "python",
   "pygments_lexer": "ipython3",
   "version": "3.11.7"
  }
 },
 "nbformat": 4,
 "nbformat_minor": 2
}
