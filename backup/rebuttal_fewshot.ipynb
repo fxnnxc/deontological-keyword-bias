{
 "cells": [
  {
   "cell_type": "code",
   "execution_count": 18,
   "metadata": {},
   "outputs": [
    {
     "name": "stdout",
     "output_type": "stream",
     "text": [
      "|   N-Positive |   N-Negative |   openai--gpt-4o-mini |   llama3_1_instruct--70b |   llama3_1--8b |   gemma2--9b |   qwen2--7b |   average |\n",
      "|-------------:|-------------:|----------------------:|-------------------------:|---------------:|-------------:|------------:|----------:|\n",
      "|            0 |            0 |                  0.98 |                     0.89 |           1    |         0.98 |        0.88 |     0.946 |\n",
      "|            0 |            1 |                  1    |                     1    |           1    |         0.96 |        1    |     0.992 |\n",
      "|            0 |            2 |                  0.99 |                     0.99 |           0.98 |         0.59 |        1    |     0.91  |\n",
      "|            1 |            0 |                  0.98 |                     0.96 |           0.03 |         0.83 |        0.75 |     0.71  |\n",
      "|            1 |            1 |                  0.99 |                     0.99 |           0.99 |         0.95 |        1    |     0.984 |\n",
      "|            1 |            2 |                  0.99 |                     1    |           0.96 |         0.86 |        0.99 |     0.96  |\n",
      "|            2 |            0 |                  0.98 |                     0.99 |           0.22 |         0.73 |        0.78 |     0.74  |\n",
      "|            2 |            1 |                  0.99 |                     0.99 |           0.78 |         0.86 |        0.98 |     0.92  |\n",
      "|            2 |            2 |                  0.99 |                     0.99 |           0.8  |         0.91 |        0.96 |     0.93  |\n",
      "|   N-Positive |   N-Negative |   openai--gpt-4o-mini |   llama3_1_instruct--70b |   llama3_1--8b |   gemma2--9b |   qwen2--7b |   average |\n",
      "|-------------:|-------------:|----------------------:|-------------------------:|---------------:|-------------:|------------:|----------:|\n",
      "|            0 |            0 |                  0.83 |                     0.98 |           0.9  |         0.98 |        0.94 |     0.926 |\n",
      "|            0 |            1 |                  0.73 |                     0.57 |           0.71 |         0.9  |        0.69 |     0.72  |\n",
      "|            0 |            2 |                  0.82 |                     0.55 |           0.64 |         0.77 |        0.7  |     0.696 |\n",
      "|            1 |            0 |                  0.6  |                     0.6  |           0.07 |         0.64 |        0.78 |     0.538 |\n",
      "|            1 |            1 |                  0.63 |                     0.33 |           0.37 |         0.67 |        0.75 |     0.55  |\n",
      "|            1 |            2 |                  0.71 |                     0.37 |           0.52 |         0.65 |        0.72 |     0.594 |\n",
      "|            2 |            0 |                  0.53 |                     0.6  |           0.04 |         0.71 |        0.67 |     0.51  |\n",
      "|            2 |            1 |                  0.63 |                     0.22 |           0.17 |         0.4  |        0.77 |     0.438 |\n",
      "|            2 |            2 |                  0.58 |                     0.33 |           0.35 |         0.36 |        0.78 |     0.48  |\n"
     ]
    },
    {
     "name": "stderr",
     "output_type": "stream",
     "text": [
      "/tmp/ipykernel_3003477/2383484601.py:9: SettingWithCopyWarning: \n",
      "A value is trying to be set on a copy of a slice from a DataFrame.\n",
      "Try using .loc[row_indexer,col_indexer] = value instead\n",
      "\n",
      "See the caveats in the documentation: https://pandas.pydata.org/pandas-docs/stable/user_guide/indexing.html#returning-a-view-versus-a-copy\n",
      "  temp['N-Positive'] = temp['reasoning'].apply(lambda x: x.split('_')[1])\n",
      "/tmp/ipykernel_3003477/2383484601.py:10: SettingWithCopyWarning: \n",
      "A value is trying to be set on a copy of a slice from a DataFrame.\n",
      "Try using .loc[row_indexer,col_indexer] = value instead\n",
      "\n",
      "See the caveats in the documentation: https://pandas.pydata.org/pandas-docs/stable/user_guide/indexing.html#returning-a-view-versus-a-copy\n",
      "  temp['N-Negative'] = temp['reasoning'].apply(lambda x: x.split('_')[2])\n",
      "/tmp/ipykernel_3003477/2383484601.py:12: SettingWithCopyWarning: \n",
      "A value is trying to be set on a copy of a slice from a DataFrame.\n",
      "Try using .loc[row_indexer,col_indexer] = value instead\n",
      "\n",
      "See the caveats in the documentation: https://pandas.pydata.org/pandas-docs/stable/user_guide/indexing.html#returning-a-view-versus-a-copy\n",
      "  temp2['N-Positive'] = temp2['reasoning'].apply(lambda x: x.split('_')[1])\n",
      "/tmp/ipykernel_3003477/2383484601.py:13: SettingWithCopyWarning: \n",
      "A value is trying to be set on a copy of a slice from a DataFrame.\n",
      "Try using .loc[row_indexer,col_indexer] = value instead\n",
      "\n",
      "See the caveats in the documentation: https://pandas.pydata.org/pandas-docs/stable/user_guide/indexing.html#returning-a-view-versus-a-copy\n",
      "  temp2['N-Negative'] = temp2['reasoning'].apply(lambda x: x.split('_')[2])\n"
     ]
    }
   ],
   "source": [
    "import pandas as pd \n",
    "\n",
    "data1 = pd.read_csv('trainging_free_fewshot_exp_6_1_debising.csv')\n",
    "data2 = pd.read_csv('trainging_free_fewshot_exp_6_2_debising.csv')\n",
    "\n",
    "temp = data1[data1['type'] == 'strong']\n",
    "temp2 = data2[data2['type'] == 'strong']\n",
    "\n",
    "temp['N-Positive'] = temp['reasoning'].apply(lambda x: x.split('_')[1])\n",
    "temp['N-Negative'] = temp['reasoning'].apply(lambda x: x.split('_')[2])\n",
    "\n",
    "temp2['N-Positive'] = temp2['reasoning'].apply(lambda x: x.split('_')[1])\n",
    "temp2['N-Negative'] = temp2['reasoning'].apply(lambda x: x.split('_')[2])\n",
    "\n",
    "temp2\n",
    "# # reorder the columns: model, n_positive, n_negative,  openai--gpt-4o-mini |   llama3_1--8b |   gemma2--9b |   qwen2--7b\n",
    "temp = temp[['N-Positive', 'N-Negative', 'openai--gpt-4o-mini', 'llama3_1_instruct--70b', 'llama3_1--8b', 'gemma2--9b', 'qwen2--7b']]\n",
    "temp2 = temp2[['N-Positive', 'N-Negative', 'openai--gpt-4o-mini', 'llama3_1_instruct--70b', 'llama3_1--8b', 'gemma2--9b', 'qwen2--7b']]\n",
    "\n",
    "\n",
    "model_columns = ['openai--gpt-4o-mini', 'llama3_1_instruct--70b', 'llama3_1--8b', 'gemma2--9b', 'qwen2--7b']\n",
    "# Add average column\n",
    "temp['average'] = temp[model_columns].mean(axis=1).round(3)\n",
    "temp2['average'] = temp2[model_columns].mean(axis=1).round(3)\n",
    "\n",
    "# Reorder columns including the new average column\n",
    "columns = ['N-Positive', 'N-Negative', 'openai--gpt-4o-mini', 'llama3_1_instruct--70b', 'llama3_1--8b', 'gemma2--9b', 'qwen2--7b', 'average']\n",
    "temp = temp[columns]\n",
    "temp2 = temp2[columns]\n",
    "\n",
    "print(temp.to_markdown(index=False))\n",
    "print(temp2.to_markdown(index=False))"
   ]
  },
  {
   "cell_type": "code",
   "execution_count": 19,
   "metadata": {},
   "outputs": [
    {
     "name": "stdout",
     "output_type": "stream",
     "text": [
      "First dataset averages:\n",
      "| Model               |   Average Performance |\n",
      "|:--------------------|----------------------:|\n",
      "| openai--gpt-4o-mini |                 0.988 |\n",
      "| llama3_1--8b        |                 0.751 |\n",
      "| gemma2--9b          |                 0.852 |\n",
      "| qwen2--7b           |                 0.927 |\n",
      "\n",
      "Second dataset averages:\n",
      "| Model               |   Average Performance |\n",
      "|:--------------------|----------------------:|\n",
      "| openai--gpt-4o-mini |                 0.673 |\n",
      "| llama3_1--8b        |                 0.419 |\n",
      "| gemma2--9b          |                 0.676 |\n",
      "| qwen2--7b           |                 0.756 |\n"
     ]
    }
   ],
   "source": [
    "# make new column average by adding openai--gpt-o-mini, ... columns \n",
    "\n",
    "# Calculate averages for each model across different N-Positive and N-Negative combinations\n",
    "def calculate_model_averages(df):\n",
    "    # Get model columns (excluding N-Positive and N-Negative)\n",
    "    model_columns = ['openai--gpt-4o-mini', 'llama3_1--8b', 'gemma2--9b', 'qwen2--7b']\n",
    "    \n",
    "    # Calculate mean for each model\n",
    "    averages = df[model_columns].mean()\n",
    "    \n",
    "    # Create a DataFrame with the averages\n",
    "    avg_df = pd.DataFrame({\n",
    "        'Model': model_columns,\n",
    "        'Average Performance': averages.values\n",
    "    })\n",
    "    \n",
    "    return avg_df.round(3)\n",
    "\n",
    "# Calculate and display averages for both datasets\n",
    "print(\"First dataset averages:\")\n",
    "print(calculate_model_averages(temp).to_markdown(index=False))\n",
    "print(\"\\nSecond dataset averages:\")\n",
    "print(calculate_model_averages(temp2).to_markdown(index=False))"
   ]
  },
  {
   "cell_type": "code",
   "execution_count": null,
   "metadata": {},
   "outputs": [],
   "source": []
  }
 ],
 "metadata": {
  "kernelspec": {
   "display_name": "base",
   "language": "python",
   "name": "python3"
  },
  "language_info": {
   "codemirror_mode": {
    "name": "ipython",
    "version": 3
   },
   "file_extension": ".py",
   "mimetype": "text/x-python",
   "name": "python",
   "nbconvert_exporter": "python",
   "pygments_lexer": "ipython3",
   "version": "3.11.7"
  }
 },
 "nbformat": 4,
 "nbformat_minor": 2
}
