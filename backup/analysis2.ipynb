{
 "cells": [
  {
   "cell_type": "code",
   "execution_count": 2,
   "metadata": {},
   "outputs": [
    {
     "name": "stderr",
     "output_type": "stream",
     "text": [
      "/home/bumjin/anaconda3/lib/python3.11/site-packages/torch/utils/_pytree.py:185: FutureWarning: optree is installed but the version is too old to support PyTorch Dynamo in C++ pytree. C++ pytree support is disabled. Please consider upgrading optree using `python3 -m pip install --upgrade 'optree>=0.13.0'`.\n",
      "  warnings.warn(\n"
     ]
    }
   ],
   "source": [
    "import pandas as pd \n",
    "import matplotlib.pyplot as plt \n",
    "import seaborn as sns \n",
    "import numpy as np \n",
    "import os \n",
    "import json \n",
    "import torch \n",
    "\n",
    "sns.set_theme(style=\"whitegrid\")\n",
    "sns.set_context(\"paper\", font_scale=1.5)\n"
   ]
  },
  {
   "cell_type": "code",
   "execution_count": 22,
   "metadata": {},
   "outputs": [
    {
     "name": "stdout",
     "output_type": "stream",
     "text": [
      "can only convert an array of size 1 to a Python scalar\n"
     ]
    },
    {
     "data": {
      "text/html": [
       "<div>\n",
       "<style scoped>\n",
       "    .dataframe tbody tr th:only-of-type {\n",
       "        vertical-align: middle;\n",
       "    }\n",
       "\n",
       "    .dataframe tbody tr th {\n",
       "        vertical-align: top;\n",
       "    }\n",
       "\n",
       "    .dataframe thead th {\n",
       "        text-align: right;\n",
       "    }\n",
       "</style>\n",
       "<table border=\"1\" class=\"dataframe\">\n",
       "  <thead>\n",
       "    <tr style=\"text-align: right;\">\n",
       "      <th></th>\n",
       "      <th>type</th>\n",
       "      <th>must</th>\n",
       "      <th>should</th>\n",
       "      <th>ought</th>\n",
       "      <th>have to</th>\n",
       "    </tr>\n",
       "  </thead>\n",
       "  <tbody>\n",
       "    <tr>\n",
       "      <th>0</th>\n",
       "      <td>strong</td>\n",
       "      <td>0.36 (0.14) -&gt; 0.88 (0.01)</td>\n",
       "      <td>0.36 (0.14) -&gt; 0.78 (0.03)</td>\n",
       "      <td>0.36 (0.14) -&gt; 0.90 (0.01)</td>\n",
       "      <td>0.36 (0.14) -&gt; 0.00 (0.00)</td>\n",
       "    </tr>\n",
       "  </tbody>\n",
       "</table>\n",
       "</div>"
      ],
      "text/plain": [
       "     type                        must                      should  \\\n",
       "0  strong  0.36 (0.14) -> 0.88 (0.01)  0.36 (0.14) -> 0.78 (0.03)   \n",
       "\n",
       "                        ought                     have to  \n",
       "0  0.36 (0.14) -> 0.90 (0.01)  0.36 (0.14) -> 0.00 (0.00)  "
      ]
     },
     "execution_count": 22,
     "metadata": {},
     "output_type": "execute_result"
    }
   ],
   "source": [
    "exp_name = \"exp_1_not\"\n",
    "dir_path = f\"results/{exp_name}/General_Binary\"\n",
    "models = [\n",
    "          'openai--gpt-4o-mini', \n",
    "          'llama3_1_instruct--70b', \n",
    "          'llama3_1--8b', \n",
    "          'gemma2--9b', \n",
    "        #   'exaone--8b', \n",
    "          'qwen2--7b'\n",
    "          ]\n",
    "result_dfs = []\n",
    "for model in models:\n",
    "    result_df = pd.read_csv(os.path.join(dir_path, f\"{model}.csv\"))\n",
    "    result_df['model'] = model\n",
    "    result_dfs.append(result_df)\n",
    "\n",
    "def mv_func(x):\n",
    "    values = ['must', 'should', 'ought']\n",
    "    for v in values:\n",
    "        if v in x:\n",
    "            return v \n",
    "    if \"has to\" in x or \"have to\" in x:\n",
    "        return \"have to\"\n",
    "    return \"none\"\n",
    "\n",
    "def process_model_output(x):\n",
    "    x =str(x)\n",
    "    if \"1\" in x and \"0\" in x:\n",
    "        return 2\n",
    "    elif \"1\" in x:\n",
    "        return 1\n",
    "    elif \"0\" in x:\n",
    "        return 0\n",
    "    else:\n",
    "        return -1 \n",
    "result_df = pd.concat(result_dfs)\n",
    "result_df['mv'] = result_df['input'].apply(mv_func)\n",
    "result_df['model_output'] =  result_df['model_output_raw'].apply(process_model_output)\n",
    "result_df.head()\n",
    "\n",
    "targets = ['input_type', 'model', 'mv', 'model_output']\n",
    "groupby = targets[:-1]\n",
    "result_averaged = result_df[targets].groupby(groupby).mean().reset_index()\n",
    "mean = result_averaged[['input_type', 'mv', 'model_output']].groupby(['input_type', 'mv']).mean().reset_index()\n",
    "var  = result_averaged[['input_type', 'mv', 'model_output']].groupby(['input_type', 'mv']).var().reset_index()\n",
    "mv_list = ['must', 'should', 'ought', 'have to', ]\n",
    "# result_averaged\n",
    "non_mean = mean[(mean['input_type'] == 'none') & (mean['mv'] == 'none')]['model_output'].item()\n",
    "non_var = var[(var['input_type'] == 'none') & (var['mv'] == 'none')]['model_output'].item()\n",
    "new_df = pd.DataFrame(columns=['type'] + mv_list)\n",
    "for input_type in ['strong',]:\n",
    "    new_row = [input_type]\n",
    "    for mv in mv_list:\n",
    "        try:\n",
    "            m = mean[(mean['input_type'] == input_type) & (mean['mv'] == mv)]['model_output'].item()\n",
    "            v = var[(var['input_type'] == input_type) & (var['mv'] == mv)]['model_output'].item()\n",
    "        except Exception as e:\n",
    "            print(e)\n",
    "            m = 0\n",
    "            v = 0\n",
    "        str_format = f\"{non_mean:.2f} ({non_var:.2f}) -> {m:.2f} ({v:.2f})\"\n",
    "        new_row.append(str_format)\n",
    "    new_df.loc[len(new_df)] = new_row\n",
    "new_df\n",
    "# new_df.to_csv(f'averaged_{exp_name}.csv', index=False)"
   ]
  },
  {
   "cell_type": "code",
   "execution_count": null,
   "metadata": {},
   "outputs": [],
   "source": []
  },
  {
   "cell_type": "code",
   "execution_count": null,
   "metadata": {},
   "outputs": [],
   "source": []
  }
 ],
 "metadata": {
  "kernelspec": {
   "display_name": "base",
   "language": "python",
   "name": "python3"
  },
  "language_info": {
   "codemirror_mode": {
    "name": "ipython",
    "version": 3
   },
   "file_extension": ".py",
   "mimetype": "text/x-python",
   "name": "python",
   "nbconvert_exporter": "python",
   "pygments_lexer": "ipython3",
   "version": "3.11.7"
  }
 },
 "nbformat": 4,
 "nbformat_minor": 2
}
